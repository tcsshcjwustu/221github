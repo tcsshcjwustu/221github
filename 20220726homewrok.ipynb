{
  "nbformat": 4,
  "nbformat_minor": 0,
  "metadata": {
    "colab": {
      "name": "20220726homewrok",
      "provenance": [],
      "collapsed_sections": [],
      "authorship_tag": "ABX9TyP5vyFZ/XcJ8yX7yHCxckXr",
      "include_colab_link": true
    },
    "kernelspec": {
      "name": "python3",
      "display_name": "Python 3"
    },
    "language_info": {
      "name": "python"
    }
  },
  "cells": [
    {
      "cell_type": "markdown",
      "metadata": {
        "id": "view-in-github",
        "colab_type": "text"
      },
      "source": [
        "<a href=\"https://colab.research.google.com/github/tcsshcjwustu/221github/blob/main/20220726homewrok.ipynb\" target=\"_parent\"><img src=\"https://colab.research.google.com/assets/colab-badge.svg\" alt=\"Open In Colab\"/></a>"
      ]
    },
    {
      "cell_type": "markdown",
      "source": [
        "課後作業1:三角形辨別"
      ],
      "metadata": {
        "id": "NGf9GPoiZIRr"
      }
    },
    {
      "cell_type": "code",
      "execution_count": 4,
      "metadata": {
        "colab": {
          "base_uri": "https://localhost:8080/"
        },
        "id": "jdzhvewnYQEy",
        "outputId": "e607d131-28de-4348-9330-4d2019d5b69e"
      },
      "outputs": [
        {
          "output_type": "stream",
          "name": "stdout",
          "text": [
            "三角形的邊長:10 10 100\n",
            "No\n"
          ]
        }
      ],
      "source": [
        "a1,b1,c1=input(\"三角形的邊長:\").split()\n",
        "a=int(a1)\n",
        "b=int(b1)\n",
        "c=int(c1)\n",
        "if( a+b <= c):\n",
        "  print('No')\n",
        "elif( a*a+b*b < c*c):\n",
        "  print('Obtuse')\n",
        "elif( a*a+b*b == c*c):\n",
        "  print('Right')\n",
        "elif( a*a+b*b > c*c):\n",
        "  print('Acute')"
      ]
    },
    {
      "cell_type": "markdown",
      "source": [
        "課後作業2:線段覆蓋長度~修改程式"
      ],
      "metadata": {
        "id": "SLkoR_WJZOpH"
      }
    },
    {
      "cell_type": "code",
      "source": [
        "x=[0]*100\n",
        "count=0\n",
        "max=0\n",
        "min=1000\n",
        "n =int(input(\"線段數量:\"))\n",
        "for i in range(n):\n",
        "  start,end = input().split()\n",
        "  s = int(start)\n",
        "  e = int(end)\n",
        "  if s<min :\n",
        "    min =s\n",
        "  if e>max :\n",
        "    max =e\n",
        "  for j in range(s,e):\n",
        "    x[j]= 1\n",
        "for i in range(min,max):\n",
        "  print(x[i],sep=\" \",end=\"\")\n",
        "  if x[i]==1:\n",
        "    count +=1\n",
        "print()\n",
        "print(\"線段覆蓋長度\" + str(count))\n",
        "print(\"線段未覆蓋區間:\" ,end=\"\")\n",
        "bp=0\n",
        "for i in range(min,max):\n",
        "  if (x[i]==0) & (bp==0) :\n",
        "    print(i+1,end=\"\")\n",
        "    bp=1\n",
        "  if (bp==1) & (x[i]==1) :\n",
        "    bp=0\n",
        "    print(\"-\"+str(i),end=\"\")\n",
        "    print(\" \",end=\"\")"
      ],
      "metadata": {
        "colab": {
          "base_uri": "https://localhost:8080/"
        },
        "id": "6KwjWqUqZx7h",
        "outputId": "3f105088-af27-48a6-b711-cf12becc7f19"
      },
      "execution_count": 15,
      "outputs": [
        {
          "output_type": "stream",
          "name": "stdout",
          "text": [
            "線段數量:3\n",
            "10 20\n",
            "15 25\n",
            "30 40\n",
            "111111111111111000001111111111\n",
            "線段覆蓋長度25\n",
            "線段未覆蓋區間:26-30 "
          ]
        }
      ]
    }
  ]
}