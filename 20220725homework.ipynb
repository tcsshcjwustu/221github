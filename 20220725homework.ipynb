{
  "nbformat": 4,
  "nbformat_minor": 0,
  "metadata": {
    "colab": {
      "name": "20220725homework.ipynb",
      "provenance": [],
      "authorship_tag": "ABX9TyNiRuz4ULKauMmF2OGG4NiO",
      "include_colab_link": true
    },
    "kernelspec": {
      "name": "python3",
      "display_name": "Python 3"
    },
    "language_info": {
      "name": "python"
    }
  },
  "cells": [
    {
      "cell_type": "markdown",
      "metadata": {
        "id": "view-in-github",
        "colab_type": "text"
      },
      "source": [
        "<a href=\"https://colab.research.google.com/github/tcsshcjwustu/221github/blob/main/20220725homework.ipynb\" target=\"_parent\"><img src=\"https://colab.research.google.com/assets/colab-badge.svg\" alt=\"Open In Colab\"/></a>"
      ]
    },
    {
      "cell_type": "markdown",
      "source": [
        "課後作業1:讀入指定的字串，並且輸出的指定字串。\n",
        "        比如：輸入\"world\"，輸出\"hello,world\""
      ],
      "metadata": {
        "id": "i-V8eQEDhdJk"
      }
    },
    {
      "cell_type": "code",
      "execution_count": 1,
      "metadata": {
        "colab": {
          "base_uri": "https://localhost:8080/"
        },
        "id": "yIAEu8mzhcJX",
        "outputId": "6654b8d7-d551-4442-a593-d5c6e09e3449"
      },
      "outputs": [
        {
          "output_type": "stream",
          "name": "stdout",
          "text": [
            "Taiwan\n",
            "Hello,Taiwan\n"
          ]
        }
      ],
      "source": [
        "x=input()\n",
        "print(\"Hello,\"+x)"
      ]
    },
    {
      "cell_type": "markdown",
      "source": [
        "課後作業 2:讀入兩個數字,並求出它們的和。"
      ],
      "metadata": {
        "id": "6wJ24gV6iDaA"
      }
    },
    {
      "cell_type": "code",
      "source": [
        "a=int(input(\"輸入第一個數:\"))\n",
        "b=int(input(\"輸入第二個數:\"))\n",
        "print(\"二數相加結果為:\"+ str(a+b))"
      ],
      "metadata": {
        "colab": {
          "base_uri": "https://localhost:8080/"
        },
        "id": "vT_SA4ZYiGU-",
        "outputId": "d246ac64-24bf-4291-bda5-8b4bdf5a0e99"
      },
      "execution_count": 2,
      "outputs": [
        {
          "output_type": "stream",
          "name": "stdout",
          "text": [
            "輸入第一個數:8\n",
            "輸入第二個數:9\n",
            "二數相加結果為:17\n"
          ]
        }
      ]
    }
  ]
}